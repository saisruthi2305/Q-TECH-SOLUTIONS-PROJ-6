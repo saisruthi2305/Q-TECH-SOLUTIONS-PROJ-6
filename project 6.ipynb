{
 "cells": [
  {
   "cell_type": "code",
   "execution_count": 6,
   "id": "eae8add2-06fe-4fbb-9c09-f634bf0478b8",
   "metadata": {},
   "outputs": [
    {
     "name": "stdout",
     "output_type": "stream",
     "text": [
      "Recommended movies for user 1:\n",
      "Aliens (1986)\n",
      "Hunt for Red October, The (1990)\n",
      "Blade Runner (1982)\n",
      "Godfather, The (1972)\n",
      "Terminator 2: Judgment Day (1991)\n"
     ]
    }
   ],
   "source": [
    "# Step 1: Import Libraries\n",
    "import pandas as pd\n",
    "from sklearn.model_selection import train_test_split\n",
    "from sklearn.metrics.pairwise import cosine_similarity\n",
    "import numpy as np\n",
    "\n",
    "# Step 2: Load the Dataset\n",
    "# Assuming the MovieLens dataset is downloaded and extracted\n",
    "ratings = pd.read_csv('C:\\\\Users\\\\dell\\\\Downloads\\\\movies.csv')\n",
    "movies = pd.read_csv('C:\\\\Users\\\\dell\\\\Downloads\\\\ratings.csv')\n",
    "\n",
    "# Step 3: Merge the ratings and movies DataFrames on 'movieId'\n",
    "merged_data = pd.merge(ratings, movies, on='movieId')\n",
    "\n",
    "# Step 4: Create a Pivot Table (User-Item Matrix)\n",
    "# Create a pivot table with users as rows and movies as columns, and ratings as values\n",
    "user_movie_matrix = merged_data.pivot_table(index='userId', columns='title', values='rating')\n",
    "\n",
    "# Step 5: Replace NaN values with 0 for cosine similarity\n",
    "user_movie_matrix.fillna(0, inplace=True)\n",
    "\n",
    "# Step 6: Compute the Cosine Similarity between Users\n",
    "user_similarity = cosine_similarity(user_movie_matrix)\n",
    "user_similarity_df = pd.DataFrame(user_similarity, index=user_movie_matrix.index, columns=user_movie_matrix.index)\n",
    "\n",
    "# Step 7: Create a Function to Recommend Movies\n",
    "def recommend_movies(user_id, num_recommendations=5):\n",
    "    # Find the most similar users to the given user_id\n",
    "    similar_users = user_similarity_df[user_id].sort_values(ascending=False).index[1:num_recommendations+1]\n",
    "    \n",
    "    # Find movies that similar users have watched but the current user hasn't\n",
    "    similar_users_movies = user_movie_matrix.loc[similar_users].mean(axis=0)\n",
    "    user_movies = user_movie_matrix.loc[user_id]\n",
    "    movies_to_recommend = similar_users_movies[user_movies == 0].sort_values(ascending=False).head(num_recommendations)\n",
    "    \n",
    "    return movies_to_recommend.index\n",
    "\n",
    "# Step 8: Recommend Movies for a Specific User\n",
    "user_id = 1  # Change this to any user ID you'd like\n",
    "recommended_movies = recommend_movies(user_id, num_recommendations=5)\n",
    "print(f\"Recommended movies for user {user_id}:\")\n",
    "for movie in recommended_movies:\n",
    "    print(movie)\n"
   ]
  },
  {
   "cell_type": "code",
   "execution_count": null,
   "id": "0d24ebfe-292d-4ecc-97e1-fc9e57191bfe",
   "metadata": {},
   "outputs": [],
   "source": []
  }
 ],
 "metadata": {
  "kernelspec": {
   "display_name": "Python 3 (ipykernel)",
   "language": "python",
   "name": "python3"
  },
  "language_info": {
   "codemirror_mode": {
    "name": "ipython",
    "version": 3
   },
   "file_extension": ".py",
   "mimetype": "text/x-python",
   "name": "python",
   "nbconvert_exporter": "python",
   "pygments_lexer": "ipython3",
   "version": "3.11.7"
  }
 },
 "nbformat": 4,
 "nbformat_minor": 5
}
